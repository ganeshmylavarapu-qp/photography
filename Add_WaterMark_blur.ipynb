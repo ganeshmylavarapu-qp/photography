{
  "nbformat": 4,
  "nbformat_minor": 0,
  "metadata": {
    "colab": {
      "provenance": [],
      "mount_file_id": "1knQ0kQ9SeWDWLI8lVCzQqmTbrgqeruMc",
      "authorship_tag": "ABX9TyNwmQkDdEQSAirphZle8qLS",
      "include_colab_link": true
    },
    "kernelspec": {
      "name": "python3",
      "display_name": "Python 3"
    },
    "language_info": {
      "name": "python"
    }
  },
  "cells": [
    {
      "cell_type": "markdown",
      "metadata": {
        "id": "view-in-github",
        "colab_type": "text"
      },
      "source": [
        "<a href=\"https://colab.research.google.com/github/ganeshmylavarapu-qp/photography/blob/main/Add_WaterMark_blur.ipynb\" target=\"_parent\"><img src=\"https://colab.research.google.com/assets/colab-badge.svg\" alt=\"Open In Colab\"/></a>"
      ]
    },
    {
      "cell_type": "code",
      "execution_count": null,
      "metadata": {
        "id": "UOjgysA99QEX"
      },
      "outputs": [],
      "source": [
        "'''\n",
        "Project     : EPWC\n",
        "\n",
        "Author      : Ganesh Mylavarapu\n",
        "\n",
        "Code Name   : add_logo.py\n",
        "\n",
        "Description : This code will add a watermark to pics stored in a particular destination.\n",
        "              It also creates blurred images.\n",
        "\n",
        "Date        : 08/21/2024\n",
        "\n",
        "Version     : 1.0\n",
        "'''"
      ]
    },
    {
      "cell_type": "code",
      "source": [
        "from PIL import Image\n",
        "\n",
        "def add_watermark(jpeg_path, png_path, output_path, position=(0, 0), transparency=128):\n",
        "\n",
        "    # Open the JPEG image\n",
        "    with Image.open(jpeg_path) as jpeg_image:\n",
        "\n",
        "        # Open the PNG image\n",
        "        with Image.open(png_path) as png_image:\n",
        "\n",
        "            # Ensure the PNG image has an alpha channel (transparency)\n",
        "            png_image = png_image.convert(\"RGBA\")\n",
        "\n",
        "            # Create a new image for the watermark with transparency\n",
        "            watermark = Image.new(\"RGBA\", jpeg_image.size, (0, 0, 0, 0))\n",
        "\n",
        "            # Paste the PNG image onto the watermark image at the specified position\n",
        "            watermark.paste(png_image, position, png_image)\n",
        "\n",
        "            # Convert the JPEG image to RGBA\n",
        "            jpeg_image = jpeg_image.convert(\"RGBA\")\n",
        "\n",
        "            # Combine the JPEG image with the watermark\n",
        "            combined = Image.alpha_composite(jpeg_image, watermark)\n",
        "\n",
        "            # Convert the combined image back to RGB (remove alpha channel) and save it\n",
        "            combined = combined.convert(\"RGB\")\n",
        "            combined.save(output_path, \"JPEG\")\n",
        "\n",
        "# Example usage\n",
        "jpeg_path   = '/content/drive/MyDrive/EWPC/test.jpg'          # Path to the input JPEG file\n",
        "png_path    = '/content/drive/MyDrive/EWPC/ASL.png'           # Path to the PNG watermark file\n",
        "output_path = '/content/drive/MyDrive/EWPC/output_image.jpg'  # Path where the output JPEG with watermark will be saved\n",
        "\n",
        "add_watermark(jpeg_path, png_path, output_path, position=(0, 0), transparency=128)\n"
      ],
      "metadata": {
        "id": "Gi04Ee84vwZh"
      },
      "execution_count": 6,
      "outputs": []
    },
    {
      "cell_type": "code",
      "source": [
        "from PIL import Image, ImageFilter\n",
        "\n",
        "def decrease_clarity(image_path, output_path, blur_radius=5):\n",
        "    # Open the JPEG image\n",
        "    with Image.open(image_path) as img:\n",
        "        # Apply a Gaussian Blur filter to decrease clarity\n",
        "        blurred_image = img.filter(ImageFilter.GaussianBlur(blur_radius))\n",
        "\n",
        "        # Save the blurred image\n",
        "        blurred_image.save(output_path, \"JPEG\")\n",
        "\n",
        "# Example usage\n",
        "input_path = '/content/drive/MyDrive/EWPC/test.jpg'  # Path to the input JPEG file\n",
        "output_path = '/content/drive/MyDrive/EWPC/blurred_output.jpg'  # Path where the output JPEG will be saved\n",
        "\n",
        "# Decrease clarity with a blur radius of 5 (you can adjust this value)\n",
        "decrease_clarity(input_path, output_path, blur_radius=10)\n"
      ],
      "metadata": {
        "id": "my1NbN6Iyvdy"
      },
      "execution_count": 8,
      "outputs": []
    }
  ]
}